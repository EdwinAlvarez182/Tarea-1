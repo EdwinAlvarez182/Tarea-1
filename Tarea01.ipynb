{
  "nbformat": 4,
  "nbformat_minor": 0,
  "metadata": {
    "colab": {
      "name": "Tarea01.ipynb",
      "provenance": [],
      "collapsed_sections": []
    },
    "kernelspec": {
      "name": "python3",
      "display_name": "Python 3"
    }
  },
  "cells": [
    {
      "cell_type": "code",
      "metadata": {
        "id": "7x0i2JvPpGSo",
        "outputId": "82c48baa-df37-4596-dd57-107770f1a52e",
        "colab": {
          "base_uri": "https://localhost:8080/"
        }
      },
      "source": [
        "vaule= int(input(\"Ingrese un numero: \"))\n",
        "if ((vaule%2)==0):\n",
        "  print(\"Es un numero par\")\n",
        "else:\n",
        "  print(\"No es numero par\")"
      ],
      "execution_count": null,
      "outputs": [
        {
          "output_type": "stream",
          "text": [
            "Ingrese un numero: 8\n",
            "Es un numero par\n"
          ],
          "name": "stdout"
        }
      ]
    },
    {
      "cell_type": "code",
      "metadata": {
        "id": "bAOBYp2OqRkA",
        "outputId": "a1cc32f8-0c3f-498b-eee5-8deaf56bb403",
        "colab": {
          "base_uri": "https://localhost:8080/"
        }
      },
      "source": [
        "cadena=input(\"Ingrese una cadena de caracteres\")\n",
        "repeticion=int(input(\"Ingrese la veces que se repetira\"))\n",
        "i=0\n",
        "while(i<repeticion):\n",
        "  print(cadena)\n",
        "  i+=1\n",
        "\n"
      ],
      "execution_count": null,
      "outputs": [
        {
          "output_type": "stream",
          "text": [
            "Ingrese una cadena de caracteresyugklk\n",
            "Ingrese la veces que se repetira5\n",
            "yugklk\n",
            "yugklk\n",
            "yugklk\n",
            "yugklk\n",
            "yugklk\n"
          ],
          "name": "stdout"
        }
      ]
    },
    {
      "cell_type": "code",
      "metadata": {
        "id": "vkyZBXdit486",
        "outputId": "21890cfb-a7b8-4a64-ce32-4eb571a1c499",
        "colab": {
          "base_uri": "https://localhost:8080/"
        }
      },
      "source": [
        "numDeHora=float(input(\"Ingrese el numero de horas que laboro al dia: \"))\n",
        "periodo=int(input(\"Ingrese el periodo de tiempo que se laboro \\n1.-1 dia\\n2.-1 semana\\n3.-1 mes\\n\"))\n",
        "def pago(numDeHora,periodo):\n",
        "  costo=150\n",
        "  if(periodo==1):\n",
        "    pago=costo*numDeHora*1\n",
        "    return pago\n",
        "  if(periodo==2):\n",
        "    pago=costo*numDeHora*5\n",
        "    return pago\n",
        "  if(periodo==3):\n",
        "    pago=costo*numDeHora*20\n",
        "    return pago\n",
        "\n",
        "print (\"Su pago sera de: \",pago(numDeHora,periodo))"
      ],
      "execution_count": null,
      "outputs": [
        {
          "output_type": "stream",
          "text": [
            "Ingrese el numero de horas que laboro al dia: 8\n",
            "Ingrese el periodo de tiempo que se laboro \n",
            "1.-1 dia\n",
            "2.-1 semana\n",
            "3.-1 mes\n",
            "3\n",
            "Su pago sera de:  24000.0\n"
          ],
          "name": "stdout"
        }
      ]
    },
    {
      "cell_type": "code",
      "metadata": {
        "id": "jHBqQ20MvyoR",
        "outputId": "1d3f4de6-16d5-453d-acb1-414a8d3ab364",
        "colab": {
          "base_uri": "https://localhost:8080/"
        }
      },
      "source": [
        "print(\"a.suma\\nb.resta\\nc.multiplicacio\\nd.division\")\n",
        "escoge=input(\"Introduzca una opcion:\")\n",
        "if(escoge=='a'):\n",
        "  print(\"Suma\")\n",
        "  x=float(input(\"Ingrese un numero: \"))\n",
        "  y=float(input(\"Ingrese otro numero: \"))\n",
        "  print(x+y)\n",
        "\n",
        "if(escoge=='b'):\n",
        "  print(\"Resta\")\n",
        "  x=float(input(\"Ingrese un numero: \"))\n",
        "  y=float(input(\"Ingrese otro numero: \"))\n",
        "  print(x-y)\n",
        "\n",
        "if(escoge=='c'):\n",
        "  print(\"Multiplicacion\")\n",
        "  x=float(input(\"Ingrese un numero: \"))\n",
        "  y=float(input(\"Ingrese otro numero: \"))\n",
        "  print(x*y)\n",
        "\n",
        "if(escoge=='d'):\n",
        "  print(\"Division\")\n",
        "  x=float(input(\"Ingrese un numero: \"))\n",
        "  y=0 \n",
        "  while (y==0):\n",
        "    y=float(input(\"Ingrese otro numero: \"))\n",
        "  print(x/y)\n",
        "\n"
      ],
      "execution_count": null,
      "outputs": [
        {
          "output_type": "stream",
          "text": [
            "a.suma\n",
            "b.resta\n",
            "c.multiplicacio\n",
            "d.division\n",
            "Introduzca una opcion:a\n",
            "Suma\n",
            "Ingrese un numero12\n",
            "Ingrese otro numero223\n",
            "235.0\n"
          ],
          "name": "stdout"
        }
      ]
    },
    {
      "cell_type": "code",
      "metadata": {
        "id": "EaDTpFvn_pqG",
        "outputId": "debc0ac9-c6ce-4358-dc19-16113af521c2",
        "colab": {
          "base_uri": "https://localhost:8080/"
        }
      },
      "source": [
        "payasos=int (input(\"Ingrese el numero de payasos: \"))\n",
        "juegos=int (input (\"Ingrese el numero de juegos de mesa: \"))\n",
        "def muestra(payasos,juegos):  \n",
        "  peso=(payasos*.17)+(juegos*.15)\n",
        "  if (peso>10):\n",
        "   print(\"ERROR\\nEl peso se paso por \",peso-10,\"kg\")\n",
        "  elif(peso<=10):\n",
        "   print(\"El peso de su pedido es: \", peso,\"kg\")\n",
        "print(muestra(payasos,juegos))\n"
      ],
      "execution_count": null,
      "outputs": [
        {
          "output_type": "stream",
          "text": [
            "Ingrese el numero de payasos: 45\n",
            "Ingrese el numero de juegos de mesa: 10\n",
            "El peso de su pedido es:  9.15 kg\n",
            "None\n"
          ],
          "name": "stdout"
        }
      ]
    },
    {
      "cell_type": "code",
      "metadata": {
        "id": "5TLt8RQHCyHQ",
        "outputId": "1a44dd75-edc0-4300-8ff1-378cb6278982",
        "colab": {
          "base_uri": "https://localhost:8080/"
        }
      },
      "source": [
        "salario=float(input(\"Ingrese su salario: \"))\n",
        "def rango(salario):\n",
        "  if(salario<10000):\n",
        "    print(\"Menos de 10 mil\\n Su salario neto es de: \",salario*.95)\n",
        "\n",
        "  if(salario>10000 and salario<15000):\n",
        "    print(\"Entre 10 mil y 15 mil\\n Su salario neto es de: \",salario*.9)\n",
        "\n",
        "  if(salario>15000 and salario<20000):\n",
        "    print(\"Entre 15 mil y 20 mil\\n Su salario neto es de: \",salario*.85)\n",
        "\n",
        "  if(salario>20000):\n",
        "    print(\"Mas de 20 mil\\n Su salario neto es de: \",salario*.82)\n",
        "\n",
        "print(rango(salario))"
      ],
      "execution_count": null,
      "outputs": [
        {
          "output_type": "stream",
          "text": [
            "Ingrese su salario: 24000\n",
            "Mas de 20 mil\n",
            " Su salario neto es de:  19680.0\n",
            "None\n"
          ],
          "name": "stdout"
        }
      ]
    },
    {
      "cell_type": "code",
      "metadata": {
        "id": "AmsCOuR-FuCz",
        "outputId": "7abbec40-721b-43fe-e36d-87b5a3fdae20",
        "colab": {
          "base_uri": "https://localhost:8080/"
        }
      },
      "source": [
        "edad=int(input(\"Ingrese su edad: \"))\n",
        "print(\"a.-Estudiante con credencial\\nb.Docente con credencial\\nc.-INAPAM\\nd.-Ninguna\")\n",
        "ocupacion=input(\"Ingrese su ocupacion: \")\n",
        "print(costo(edad,ocupacion))\n",
        "def costo(edad,ocupacion):\n",
        "  if (edad<4):\n",
        "    print(\"Gratis\")\n",
        "\n",
        "  if (edad>=4 and edad<=16):\n",
        "    if(ocupacion=='a'):\n",
        "      print(50*.9,\"$\")\n",
        "    else:\n",
        "      print(\"50$\")\n",
        "\n",
        "  if (edad>16):\n",
        "    if (ocupacion=='a'):\n",
        "      print(100*.9,\"$\")\n",
        "    elif (ocupacion=='b'):\n",
        "      print(100*.7,\"$\")\n",
        "    elif (ocupacion=='c'):\n",
        "      print(100*.5,\"$\")\n",
        "    else:\n",
        "      print(\"100$\")\n",
        "    \n"
      ],
      "execution_count": null,
      "outputs": [
        {
          "output_type": "stream",
          "text": [
            "Ingrese su edad: 12\n",
            "a.-Estudiante con credencial\n",
            "b.Docente con credencial\n",
            "c.-INAPAM\n",
            "d.-Ninguna\n",
            "Ingrese su ocupacion: d\n",
            "50$\n",
            "None\n"
          ],
          "name": "stdout"
        }
      ]
    },
    {
      "cell_type": "code",
      "metadata": {
        "id": "jm9wn2WjJ8qe",
        "outputId": "ba1f4f0c-c25e-46cb-fcbe-1f55e4be0df1",
        "colab": {
          "base_uri": "https://localhost:8080/"
        }
      },
      "source": [
        "repeticion=int(input(\"Ingrse un numero\"))\n",
        "a=['*']\n",
        "i=0\n",
        "while(i<repeticion):\n",
        "  print(a);\n",
        "  a.append('*')\n",
        "  i+=1"
      ],
      "execution_count": null,
      "outputs": [
        {
          "output_type": "stream",
          "text": [
            "Ingrse un numero5\n",
            "['*']\n",
            "['*', '*']\n",
            "['*', '*', '*']\n",
            "['*', '*', '*', '*']\n",
            "['*', '*', '*', '*', '*']\n"
          ],
          "name": "stdout"
        }
      ]
    },
    {
      "cell_type": "code",
      "metadata": {
        "id": "PZjbzUqtMuju",
        "outputId": "4496f17e-c547-4bef-93c7-69211738ef55",
        "colab": {
          "base_uri": "https://localhost:8080/"
        }
      },
      "source": [
        "def calfactorial(factorial):\n",
        "  i=factorial\n",
        "  while (i<=factorial and i>1):\n",
        "    factorial=factorial*(i-1)\n",
        "    i=i-1\n",
        "  return factorial\n",
        "\n",
        "factorial=0\n",
        "while (factorial<=0):\n",
        "  factorial=int(input(\"Ingrese un numero:\"))\n",
        "\n",
        "print(\"El factorial es:\",calfactorial(factorial))"
      ],
      "execution_count": null,
      "outputs": [
        {
          "output_type": "stream",
          "text": [
            "Ingrese un numero:5\n",
            "El factorial es: 120\n"
          ],
          "name": "stdout"
        }
      ]
    },
    {
      "cell_type": "code",
      "metadata": {
        "id": "L768kXUmuAHU",
        "outputId": "4ebb3f14-19d7-40f4-ccf1-3a5db66408d3",
        "colab": {
          "base_uri": "https://localhost:8080/"
        }
      },
      "source": [
        "def calArea(radio):\n",
        "  area=(3.1416)*(pow(radio,2)) \n",
        "  return area\n",
        "def calVolumen(altura):\n",
        "  volumen=calArea(radio)*altura \n",
        "  return volumen\n",
        "\n",
        "radio=float(input(\"Ingrese el valor del radio: \"))\n",
        "altura=float(input(\"Ingresa el valor de la altura: \"))\n",
        "\n",
        "print(\"El area es: \",calArea(radio))\n",
        "print(\"El volumen es: \",calVolumen(altura))\n"
      ],
      "execution_count": null,
      "outputs": [
        {
          "output_type": "stream",
          "text": [
            "Ingrese el valor del radio: 3\n",
            "Ingresa el valor de la altura: 6\n",
            "El area es:  28.2744\n",
            "El volumen es:  169.6464\n"
          ],
          "name": "stdout"
        }
      ]
    }
  ]
}